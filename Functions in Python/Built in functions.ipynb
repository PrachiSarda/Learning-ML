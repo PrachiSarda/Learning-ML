{
 "cells": [
  {
   "cell_type": "code",
   "execution_count": 1,
   "metadata": {},
   "outputs": [
    {
     "name": "stdout",
     "output_type": "stream",
     "text": [
      "100\n",
      "2.6\n"
     ]
    }
   ],
   "source": [
    "##ABSOLUTE FUNCTION\n",
    "\n",
    "a = 100\n",
    "print(abs(a))\n",
    "\n",
    "b = -2.6\n",
    "print(abs(b))"
   ]
  },
  {
   "cell_type": "code",
   "execution_count": 3,
   "metadata": {},
   "outputs": [
    {
     "name": "stdout",
     "output_type": "stream",
     "text": [
      "True\n",
      "False\n",
      "True\n",
      "False\n"
     ]
    }
   ],
   "source": [
    "##ALL FUNCTION\n",
    "\n",
    "lst = [1, 2, 3, 4]\n",
    "print(all(lst)) \n",
    "\n",
    "lst = [1, 0, 3, 4]\n",
    "print(all(lst)) \n",
    "\n",
    "lst = []\n",
    "print(all(lst))\n",
    "\n",
    "lst = [False, 89, 1]\n",
    "print(all(lst))"
   ]
  },
  {
   "cell_type": "code",
   "execution_count": 4,
   "metadata": {},
   "outputs": [
    {
     "name": "stdout",
     "output_type": "stream",
     "text": [
      "['__add__', '__class__', '__contains__', '__delattr__', '__delitem__', '__dir__', '__doc__', '__eq__', '__format__', '__ge__', '__getattribute__', '__getitem__', '__gt__', '__hash__', '__iadd__', '__imul__', '__init__', '__init_subclass__', '__iter__', '__le__', '__len__', '__lt__', '__mul__', '__ne__', '__new__', '__reduce__', '__reduce_ex__', '__repr__', '__reversed__', '__rmul__', '__setattr__', '__setitem__', '__sizeof__', '__str__', '__subclasshook__', 'append', 'clear', 'copy', 'count', 'extend', 'index', 'insert', 'pop', 'remove', 'reverse', 'sort']\n"
     ]
    }
   ],
   "source": [
    "##DIR FUNCTION\n",
    "\n",
    "numbers = [1, 2, 3]\n",
    "print(dir(numbers))"
   ]
  },
  {
   "cell_type": "code",
   "execution_count": 5,
   "metadata": {},
   "outputs": [
    {
     "name": "stdout",
     "output_type": "stream",
     "text": [
      "(4, 1)\n"
     ]
    }
   ],
   "source": [
    "##DIVMOD\n",
    "\n",
    "print(divmod(9,2))"
   ]
  },
  {
   "cell_type": "code",
   "execution_count": 6,
   "metadata": {},
   "outputs": [
    {
     "name": "stdout",
     "output_type": "stream",
     "text": [
      "index 10 has value 10\n",
      "index 11 has value 20\n",
      "index 12 has value 30\n",
      "index 13 has value 40\n"
     ]
    }
   ],
   "source": [
    "##ENUMERATE\n",
    "\n",
    "numbers = [10, 20, 30, 40]\n",
    "\n",
    "for index, num in enumerate(numbers,10):\n",
    "    print(\"index {0} has value {1}\".format(index, num))"
   ]
  },
  {
   "cell_type": "code",
   "execution_count": 8,
   "metadata": {},
   "outputs": [
    {
     "name": "stdout",
     "output_type": "stream",
     "text": [
      "[-10, -9, -8, -7, -6, -5, -4, -3, -2, -1, 0, 1, 2, 3, 4, 5, 6, 7, 8, 9]\n",
      "[1, 2, 3, 4, 5, 6, 7, 8, 9]\n"
     ]
    }
   ],
   "source": [
    "## FILTER\n",
    "\n",
    "def find_positive_number(num):\n",
    "    \"\"\"\n",
    "    This function returns the positive number if num is positive\n",
    "    \"\"\"\n",
    "    if num > 0:\n",
    "        return num\n",
    "\n",
    "numbers = range(-10, 10)\n",
    "print(list(numbers))\n",
    "\n",
    "positive_num = list(filter(find_positive_number, numbers))\n",
    "print(positive_num)"
   ]
  },
  {
   "cell_type": "code",
   "execution_count": 9,
   "metadata": {},
   "outputs": [
    {
     "name": "stdout",
     "output_type": "stream",
     "text": [
      "True\n",
      "False\n"
     ]
    }
   ],
   "source": [
    "##ISINSTANCE\n",
    "\n",
    "lst = [1, 2, 3, 4]\n",
    "print(isinstance(lst, list))\n",
    "print(isinstance(lst, tuple))"
   ]
  },
  {
   "cell_type": "code",
   "execution_count": 11,
   "metadata": {},
   "outputs": [
    {
     "name": "stdout",
     "output_type": "stream",
     "text": [
      "[1, 4, 9, 16]\n"
     ]
    }
   ],
   "source": [
    "##MAP\n",
    "\n",
    "lst = [1, 2, 3, 4]\n",
    "\n",
    "def power_of_two(num):\n",
    "    return num**2\n",
    "\n",
    "squares = list(map(power_of_two, lst))\n",
    "print(squares)"
   ]
  },
  {
   "cell_type": "code",
   "execution_count": 14,
   "metadata": {},
   "outputs": [
    {
     "name": "stdout",
     "output_type": "stream",
     "text": [
      "24\n"
     ]
    }
   ],
   "source": [
    "##REDUCE\n",
    "from functools import reduce \n",
    "lst = [1, 2, 3, 4]\n",
    "\n",
    "def product(x, y):\n",
    "    return x*y\n",
    "\n",
    "print(reduce(product, lst))"
   ]
  }
 ],
 "metadata": {
  "kernelspec": {
   "display_name": "Python 3",
   "language": "python",
   "name": "python3"
  },
  "language_info": {
   "codemirror_mode": {
    "name": "ipython",
    "version": 3
   },
   "file_extension": ".py",
   "mimetype": "text/x-python",
   "name": "python",
   "nbconvert_exporter": "python",
   "pygments_lexer": "ipython3",
   "version": "3.7.2"
  }
 },
 "nbformat": 4,
 "nbformat_minor": 4
}
