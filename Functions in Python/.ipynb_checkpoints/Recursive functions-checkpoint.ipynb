{
 "cells": [
  {
   "cell_type": "code",
   "execution_count": 1,
   "metadata": {},
   "outputs": [
    {
     "name": "stdout",
     "output_type": "stream",
     "text": [
      "720\n",
      "362880\n"
     ]
    }
   ],
   "source": [
    "##COMPUTE FACTORIAL OF A NUMBER\n",
    "\n",
    "def factorial(num):\n",
    "    '''\n",
    "    This recursive function computes the factorial of a number \n",
    "    '''\n",
    "    return 1 if num==1 else num*factorial(num-1)\n",
    "\n",
    "print(factorial(6))\n",
    "print(factorial(9))"
   ]
  },
  {
   "cell_type": "code",
   "execution_count": 2,
   "metadata": {},
   "outputs": [
    {
     "name": "stdout",
     "output_type": "stream",
     "text": [
      "0\n",
      "1\n",
      "1\n",
      "2\n",
      "3\n",
      "5\n",
      "8\n",
      "13\n",
      "21\n",
      "34\n"
     ]
    }
   ],
   "source": [
    "##FIBONACCI SEQUENCE\n",
    "\n",
    "def fibonacci(n):\n",
    "    '''\n",
    "    This recursive function returns the nth fibonacci number\n",
    "    '''\n",
    "    return n if n<=1 else fibonacci(n-1) + fibonacci(n-2)\n",
    "\n",
    "for i in range(10):\n",
    "    print(fibonacci(i))"
   ]
  }
 ],
 "metadata": {
  "kernelspec": {
   "display_name": "Python 3",
   "language": "python",
   "name": "python3"
  },
  "language_info": {
   "codemirror_mode": {
    "name": "ipython",
    "version": 3
   },
   "file_extension": ".py",
   "mimetype": "text/x-python",
   "name": "python",
   "nbconvert_exporter": "python",
   "pygments_lexer": "ipython3",
   "version": "3.7.2"
  }
 },
 "nbformat": 4,
 "nbformat_minor": 4
}
