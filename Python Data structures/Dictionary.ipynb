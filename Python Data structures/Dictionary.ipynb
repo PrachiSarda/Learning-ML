{
 "cells": [
  {
   "cell_type": "code",
   "execution_count": 2,
   "metadata": {},
   "outputs": [
    {
     "name": "stdout",
     "output_type": "stream",
     "text": [
      "<class 'dict'>\n",
      "{1: 'abc', 2: 'def'}\n",
      "{'Name': 'Prachi', 1: 'happy'}\n",
      "{1: 'abc', 2: 'xyz'}\n"
     ]
    }
   ],
   "source": [
    "##CREATING A DICTIONARY\n",
    "\n",
    "my_dict = {}\n",
    "print(type(my_dict))\n",
    "\n",
    "my_dict = {1: 'abc', 2: 'def'}\n",
    "print(my_dict)\n",
    "\n",
    "my_dict = {'Name': 'Prachi', 1: 'happy'}\n",
    "print(my_dict)\n",
    "\n",
    "my_dict = dict()\n",
    "my_dict = dict([(1, 'abc'), (2, 'xyz')])    \n",
    "print(my_dict)"
   ]
  },
  {
   "cell_type": "code",
   "execution_count": 4,
   "metadata": {},
   "outputs": [
    {
     "name": "stdout",
     "output_type": "stream",
     "text": [
      "Prachi\n",
      "20\n",
      "None\n"
     ]
    }
   ],
   "source": [
    "##ACCESSING KEYS IN A DICTIONARY\n",
    "\n",
    "my_dict = {'name': 'Prachi', 'age': 20, 'address': 'Surat'}\n",
    "\n",
    "print(my_dict['name'])\n",
    "\n",
    "print(my_dict.get('age'))\n",
    "print(my_dict.get('contact'))"
   ]
  },
  {
   "cell_type": "code",
   "execution_count": 5,
   "metadata": {},
   "outputs": [
    {
     "name": "stdout",
     "output_type": "stream",
     "text": [
      "{'name': 'Guddu', 'age': 20, 'address': 'Surat', 'contact': 8160400504}\n"
     ]
    }
   ],
   "source": [
    "##ADD OR UPDATE KEYS IN DICTIONARY\n",
    "\n",
    "my_dict = {'name': 'Prachi', 'age': 20, 'address': 'Surat'}\n",
    "my_dict['name'] = 'Guddu'  #updating a key\n",
    "my_dict['contact'] = 8160400504 #adding a key\n",
    "\n",
    "print(my_dict)"
   ]
  },
  {
   "cell_type": "code",
   "execution_count": 6,
   "metadata": {},
   "outputs": [
    {
     "name": "stdout",
     "output_type": "stream",
     "text": [
      "8160400504\n",
      "{'name': 'Guddu', 'age': 20, 'address': 'Surat'}\n",
      "{'name': 'Guddu', 'age': 20}\n",
      "{1: 1, 2: 4, 4: 16}\n",
      "{}\n"
     ]
    }
   ],
   "source": [
    "##DELETE OR REMOVE ELEMENTS\n",
    "\n",
    "print(my_dict.pop('contact'))\n",
    "print(my_dict)\n",
    "\n",
    "my_dict.popitem()\n",
    "print(my_dict)\n",
    "\n",
    "my_dict = {1: 1, 2: 4, 3: 9, 4: 16}\n",
    "del my_dict[3]\n",
    "print(my_dict)\n",
    "\n",
    "my_dict.clear()\n",
    "print(my_dict)\n",
    "\n",
    "del my_dict"
   ]
  },
  {
   "cell_type": "code",
   "execution_count": 7,
   "metadata": {},
   "outputs": [],
   "source": [
    "##DICTIONARY METHODS"
   ]
  },
  {
   "cell_type": "code",
   "execution_count": 8,
   "metadata": {},
   "outputs": [
    {
     "name": "stdout",
     "output_type": "stream",
     "text": [
      "{1: 1, 2: 4, 3: 9, 4: 16}\n"
     ]
    }
   ],
   "source": [
    "#COPY\n",
    "squares = {1: 1, 2: 4, 3: 9, 4: 16}\n",
    "my_dict = squares.copy()\n",
    "print(my_dict)"
   ]
  },
  {
   "cell_type": "code",
   "execution_count": 9,
   "metadata": {},
   "outputs": [
    {
     "name": "stdout",
     "output_type": "stream",
     "text": [
      "{'Maths': 0, 'Physics': 0, 'Chemistry': 0}\n"
     ]
    }
   ],
   "source": [
    "#FROMKEYS\n",
    "my_dict = {}.fromkeys(['Maths', 'Physics', 'Chemistry'], 0)\n",
    "print(my_dict)"
   ]
  },
  {
   "cell_type": "code",
   "execution_count": 10,
   "metadata": {},
   "outputs": [
    {
     "name": "stdout",
     "output_type": "stream",
     "text": [
      "dict_items([(2, 4), (3, 9), (4, 16), (5, 25)])\n"
     ]
    }
   ],
   "source": [
    "#ITEMS\n",
    "subjects = {2:4, 3:9, 4:16, 5:25}\n",
    "print(subjects.items())"
   ]
  },
  {
   "cell_type": "code",
   "execution_count": 11,
   "metadata": {},
   "outputs": [
    {
     "name": "stdout",
     "output_type": "stream",
     "text": [
      "dict_keys([1, 2, 3, 4])\n",
      "dict_values([1, 4, 9, 16])\n"
     ]
    }
   ],
   "source": [
    "#KEYS\n",
    "squares = {1: 1, 2: 4, 3: 9, 4: 16}\n",
    "print(squares.keys())\n",
    "\n",
    "#VALUES\n",
    "print(squares.values())"
   ]
  },
  {
   "cell_type": "code",
   "execution_count": 12,
   "metadata": {},
   "outputs": [
    {
     "name": "stdout",
     "output_type": "stream",
     "text": [
      "['__class__', '__contains__', '__delattr__', '__delitem__', '__dir__', '__doc__', '__eq__', '__format__', '__ge__', '__getattribute__', '__getitem__', '__gt__', '__hash__', '__init__', '__init_subclass__', '__iter__', '__le__', '__len__', '__lt__', '__ne__', '__new__', '__reduce__', '__reduce_ex__', '__repr__', '__setattr__', '__setitem__', '__sizeof__', '__str__', '__subclasshook__', 'clear', 'copy', 'fromkeys', 'get', 'items', 'keys', 'pop', 'popitem', 'setdefault', 'update', 'values']\n"
     ]
    }
   ],
   "source": [
    "d = {}\n",
    "print(dir(d))"
   ]
  },
  {
   "cell_type": "code",
   "execution_count": 14,
   "metadata": {},
   "outputs": [],
   "source": [
    "##DICTIONARY COMPREHENSION"
   ]
  },
  {
   "cell_type": "code",
   "execution_count": 15,
   "metadata": {},
   "outputs": [
    {
     "name": "stdout",
     "output_type": "stream",
     "text": [
      "(1, 1)\n",
      "(2, 4)\n",
      "(3, 9)\n",
      "(4, 16)\n"
     ]
    }
   ],
   "source": [
    "for pair in squares.items():\n",
    "    print(pair)"
   ]
  },
  {
   "cell_type": "code",
   "execution_count": 16,
   "metadata": {},
   "outputs": [
    {
     "name": "stdout",
     "output_type": "stream",
     "text": [
      "{'a': 1, 'b': 2, 'c': 3, 'd': 4}\n"
     ]
    }
   ],
   "source": [
    "d = {'a': 1, 'b': 2, 'c': 3, 'd': 4}\n",
    "new = {k:v for k,v in d.items() if v>2}\n",
    "print(new)"
   ]
  },
  {
   "cell_type": "code",
   "execution_count": 17,
   "metadata": {},
   "outputs": [
    {
     "name": "stdout",
     "output_type": "stream",
     "text": [
      "{'cc': 6, 'dc': 8, 'ec': 10}\n"
     ]
    }
   ],
   "source": [
    "d = {'a': 1, 'b': 2, 'c': 3, 'd': 4, 'e': 5}\n",
    "new = {k + 'c':v*2 for k,v in d.items() if v>2}\n",
    "print(new)"
   ]
  }
 ],
 "metadata": {
  "kernelspec": {
   "display_name": "Python 3",
   "language": "python",
   "name": "python3"
  },
  "language_info": {
   "codemirror_mode": {
    "name": "ipython",
    "version": 3
   },
   "file_extension": ".py",
   "mimetype": "text/x-python",
   "name": "python",
   "nbconvert_exporter": "python",
   "pygments_lexer": "ipython3",
   "version": "3.7.2"
  }
 },
 "nbformat": 4,
 "nbformat_minor": 4
}
